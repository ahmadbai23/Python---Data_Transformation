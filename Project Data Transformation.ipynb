{
 "cells": [
  {
   "cell_type": "code",
   "execution_count": null,
   "id": "b9366514-5920-4242-9cfa-ad6a72ca77f2",
   "metadata": {},
   "outputs": [],
   "source": [
    "import arcpy\n",
    "import csv\n",
    "import os\n",
    "\n",
    "# Set the workspace where you want to create the geodatabase\n",
    "workspace = r\"\" # Your Directory GDB\n",
    "\n",
    "# Set the name for the new table in the geodatabase\n",
    "table_name = \"TEST_PROJECT\" # Your Table Name\n",
    "\n",
    "# Define a dictionary of field names and their corresponding data types\n",
    "field_data_types = {\n",
    "    'NO' : 'SHORT',\n",
    "    'UNIQUE_ID' : 'TEXT',\n",
    "    'NAME' : 'TEXT',\n",
    "    'AGE' : 'SHORT',\n",
    "    'ADDRESS' : 'TEXT'\n",
    "}\n",
    "\n",
    "# Create the new table with specified data types\n",
    "arcpy.CreateTable_management(workspace, table_name)\n",
    "for field_name, field_type in field_data_types.items():\n",
    "    arcpy.AddField_management(\n",
    "        os.path.join(workspace, table_name),\n",
    "        field_name,\n",
    "        field_type\n",
    "    )\n",
    "\n",
    "\n",
    "# Set the path to your CSV file\n",
    "csv_file = r\"\" # Your Directory CSV Files\n",
    "\n",
    "# Insert data from CSV into the new table\n",
    "with open(csv_file, 'r') as csvfile:\n",
    "    csv_reader = csv.DictReader(csvfile)\n",
    "    with arcpy.da.InsertCursor(os.path.join(workspace, table_name), csv_reader.fieldnames) as cursor:\n",
    "        for row in csv_reader:\n",
    "            cursor.insertRow([row[field] for field in csv_reader.fieldnames])        \n",
    "            \n",
    "print(\"Export csv to Geodatabase is successfully\")"
   ]
  }
 ],
 "metadata": {
  "kernelspec": {
   "display_name": "Python 3 (ipykernel)",
   "language": "python",
   "name": "python3"
  },
  "language_info": {
   "codemirror_mode": {
    "name": "ipython",
    "version": 3
   },
   "file_extension": ".py",
   "mimetype": "text/x-python",
   "name": "python",
   "nbconvert_exporter": "python",
   "pygments_lexer": "ipython3",
   "version": "3.9.16"
  }
 },
 "nbformat": 4,
 "nbformat_minor": 5
}
